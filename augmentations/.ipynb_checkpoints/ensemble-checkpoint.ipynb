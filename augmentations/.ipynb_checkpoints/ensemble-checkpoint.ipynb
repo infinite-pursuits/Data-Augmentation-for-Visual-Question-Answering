{
 "cells": [
  {
   "cell_type": "code",
   "execution_count": 7,
   "metadata": {},
   "outputs": [
    {
     "name": "stdout",
     "output_type": "stream",
     "text": [
      "[nltk_data] Downloading package wordnet to /home/deshana/nltk_data...\n",
      "[nltk_data]   Package wordnet is already up-to-date!\n",
      "[nltk_data] Downloading package averaged_perceptron_tagger to\n",
      "[nltk_data]     /home/deshana/nltk_data...\n",
      "[nltk_data]   Package averaged_perceptron_tagger is already up-to-\n",
      "[nltk_data]       date!\n",
      "[nltk_data] Downloading package punkt to /home/deshana/nltk_data...\n",
      "[nltk_data]   Package punkt is already up-to-date!\n"
     ]
    }
   ],
   "source": [
    "from nltk.corpus import wordnet\n",
    "import nltk\n",
    "from nltk.stem import WordNetLemmatizer\n",
    "from nltk import pos_tag, word_tokenize\n",
    "nltk.download('wordnet')\n",
    "nltk.download('averaged_perceptron_tagger')\n",
    "nltk.download('punkt')\n",
    "import spacy\n",
    "import json\n",
    "from pprint import pprint\n",
    "nlp = spacy.load('en')\n",
    "import textacy\n",
    "import csv\n",
    "import pandas as pd\n",
    "import json\n",
    "from nltk.tokenize import TreebankWordTokenizer"
   ]
  },
  {
   "cell_type": "code",
   "execution_count": 5,
   "metadata": {},
   "outputs": [],
   "source": [
    "f = open(\"/home/deshana/Code/data/mscoco/v2_OpenEnded_mscoco_train2014_questions.json\",'r')\n",
    "data = json.load(f)"
   ]
  },
  {
   "cell_type": "code",
   "execution_count": 6,
   "metadata": {},
   "outputs": [],
   "source": [
    "words = ['color', 'position', 'left', 'right', 'count', 'how many']"
   ]
  },
  {
   "cell_type": "code",
   "execution_count": 8,
   "metadata": {},
   "outputs": [],
   "source": [
    "tokenizer = TreebankWordTokenizer()"
   ]
  },
  {
   "cell_type": "code",
   "execution_count": 9,
   "metadata": {},
   "outputs": [],
   "source": [
    "chosen = []\n",
    "for question in data['questions']:\n",
    "    sentence = question['question']\n",
    "    tokens = tokenizer.tokenize(sentence)\n",
    "    sw = False\n",
    "    for x in tokens:\n",
    "        if x in words:\n",
    "            sw = True\n",
    "            break\n",
    "    if sw:\n",
    "        chosen.append(sentence)\n",
    "    "
   ]
  },
  {
   "cell_type": "code",
   "execution_count": 13,
   "metadata": {},
   "outputs": [
    {
     "data": {
      "text/plain": [
       "['What position is this man playing?',\n",
       " 'What color is the players shirt?',\n",
       " 'What color is the snow?',\n",
       " 'What color is the persons headwear?',\n",
       " 'What color is the toothbrush?',\n",
       " 'Is this photo in color?',\n",
       " 'What color is his hat?',\n",
       " 'What color is the jacket?',\n",
       " 'Are the walls done in a summery color?',\n",
       " 'What color is the sky?',\n",
       " 'What color is his coat?',\n",
       " 'What companion object to the TV can be seen in the bottom right of the picture?',\n",
       " 'What is the small computer on the left called?',\n",
       " 'What color is the bear?',\n",
       " 'What is on the ground next to the giraffe on the right?',\n",
       " 'What color are the leaves?',\n",
       " 'What color is the umbrella?',\n",
       " 'Is the sun to the right or left of this flower?',\n",
       " 'What color is the vase?',\n",
       " 'What color is the napkin?',\n",
       " 'What is the color of the carpet?',\n",
       " 'What color is the refrigerator?',\n",
       " 'What color is the plane?',\n",
       " 'What color horse is closer to the camera?',\n",
       " 'What is the position of the player behind the batter called?',\n",
       " \"What color is the girl's shirt?\",\n",
       " 'What color are the flowers?',\n",
       " 'What color is the animal?',\n",
       " 'What color is the plane?',\n",
       " 'What color are the seats?',\n",
       " 'What color is the middle vase?',\n",
       " 'What color is the window frame?',\n",
       " 'What is the person on the right called?',\n",
       " 'What color is the sign?',\n",
       " 'What type of filling is in the dish on the bottom left?',\n",
       " 'What color is the tray?',\n",
       " 'What color is the bathroom?',\n",
       " 'What is the primary color of the bathroom?',\n",
       " 'What color is the wall?',\n",
       " 'What color are the bathroom walls?',\n",
       " 'What color is the sofa?',\n",
       " \"What color is the man's shirt in the front of the photo?\",\n",
       " 'What type of vehicle is on the left?',\n",
       " 'What color is the traffic signal?',\n",
       " \"What color is the woman's sweater?\",\n",
       " 'What color are the chairs?',\n",
       " 'What color is the building?',\n",
       " 'What tree is on the left?',\n",
       " 'What is the material right around the clock?',\n",
       " 'What color are the flowers?']"
      ]
     },
     "execution_count": 13,
     "metadata": {},
     "output_type": "execute_result"
    }
   ],
   "source": [
    "chosen[0:50]"
   ]
  },
  {
   "cell_type": "code",
   "execution_count": 14,
   "metadata": {},
   "outputs": [],
   "source": [
    "def get_triplet(sentence):\n",
    "    doc = nlp(sentence)\n",
    "    triplet = {}\n",
    "    for chunk in doc.noun_chunks:\n",
    "        #print(chunk.text, chunk.root.text, chunk.root.dep_)\n",
    "              #chunk.root.head.text)\n",
    "        triplet[chunk.root.dep_] = chunk.text\n",
    "    return triplet"
   ]
  },
  {
   "cell_type": "code",
   "execution_count": 15,
   "metadata": {},
   "outputs": [],
   "source": [
    "def get_VP(sentence):\n",
    "    pattern = r'<VERB>?<ADV>*<VERB>+'\n",
    "    doc = textacy.Doc(sentence, lang='en')\n",
    "    lists = textacy.extract.pos_regex_matches(doc, pattern)\n",
    "    return lists"
   ]
  },
  {
   "cell_type": "code",
   "execution_count": 17,
   "metadata": {},
   "outputs": [
    {
     "name": "stdout",
     "output_type": "stream",
     "text": [
      "52421\n"
     ]
    },
    {
     "ename": "KeyboardInterrupt",
     "evalue": "",
     "output_type": "error",
     "traceback": [
      "\u001b[0;31m---------------------------------------------------------------------------\u001b[0m",
      "\u001b[0;31mKeyboardInterrupt\u001b[0m                         Traceback (most recent call last)",
      "\u001b[0;32m<ipython-input-17-81598aafa9b5>\u001b[0m in \u001b[0;36m<module>\u001b[0;34m()\u001b[0m\n\u001b[1;32m      5\u001b[0m     \u001b[0mtriplet\u001b[0m \u001b[0;34m=\u001b[0m \u001b[0;34m{\u001b[0m\u001b[0;34m}\u001b[0m\u001b[0;34m\u001b[0m\u001b[0m\n\u001b[1;32m      6\u001b[0m     \u001b[0mtriplet\u001b[0m\u001b[0;34m[\u001b[0m\u001b[0;34m'sentence'\u001b[0m\u001b[0;34m]\u001b[0m \u001b[0;34m=\u001b[0m \u001b[0msentence\u001b[0m\u001b[0;34m\u001b[0m\u001b[0m\n\u001b[0;32m----> 7\u001b[0;31m     \u001b[0mattrs\u001b[0m \u001b[0;34m=\u001b[0m \u001b[0mget_triplet\u001b[0m\u001b[0;34m(\u001b[0m\u001b[0msentence\u001b[0m\u001b[0;34m)\u001b[0m\u001b[0;34m\u001b[0m\u001b[0m\n\u001b[0m\u001b[1;32m      8\u001b[0m     \u001b[0mtriplet\u001b[0m \u001b[0;34m=\u001b[0m \u001b[0;34m{\u001b[0m\u001b[0;34m**\u001b[0m\u001b[0mtriplet\u001b[0m\u001b[0;34m,\u001b[0m \u001b[0;34m**\u001b[0m\u001b[0mattrs\u001b[0m\u001b[0;34m}\u001b[0m\u001b[0;34m\u001b[0m\u001b[0m\n\u001b[1;32m      9\u001b[0m     \u001b[0mVPs\u001b[0m \u001b[0;34m=\u001b[0m \u001b[0mget_VP\u001b[0m\u001b[0;34m(\u001b[0m\u001b[0msentence\u001b[0m\u001b[0;34m)\u001b[0m\u001b[0;34m\u001b[0m\u001b[0m\n",
      "\u001b[0;32m<ipython-input-14-eb0d636f2e51>\u001b[0m in \u001b[0;36mget_triplet\u001b[0;34m(sentence)\u001b[0m\n\u001b[1;32m      1\u001b[0m \u001b[0;32mdef\u001b[0m \u001b[0mget_triplet\u001b[0m\u001b[0;34m(\u001b[0m\u001b[0msentence\u001b[0m\u001b[0;34m)\u001b[0m\u001b[0;34m:\u001b[0m\u001b[0;34m\u001b[0m\u001b[0m\n\u001b[0;32m----> 2\u001b[0;31m     \u001b[0mdoc\u001b[0m \u001b[0;34m=\u001b[0m \u001b[0mnlp\u001b[0m\u001b[0;34m(\u001b[0m\u001b[0msentence\u001b[0m\u001b[0;34m)\u001b[0m\u001b[0;34m\u001b[0m\u001b[0m\n\u001b[0m\u001b[1;32m      3\u001b[0m     \u001b[0mtriplet\u001b[0m \u001b[0;34m=\u001b[0m \u001b[0;34m{\u001b[0m\u001b[0;34m}\u001b[0m\u001b[0;34m\u001b[0m\u001b[0m\n\u001b[1;32m      4\u001b[0m     \u001b[0;32mfor\u001b[0m \u001b[0mchunk\u001b[0m \u001b[0;32min\u001b[0m \u001b[0mdoc\u001b[0m\u001b[0;34m.\u001b[0m\u001b[0mnoun_chunks\u001b[0m\u001b[0;34m:\u001b[0m\u001b[0;34m\u001b[0m\u001b[0m\n\u001b[1;32m      5\u001b[0m         \u001b[0;31m#print(chunk.text, chunk.root.text, chunk.root.dep_)\u001b[0m\u001b[0;34m\u001b[0m\u001b[0;34m\u001b[0m\u001b[0m\n",
      "\u001b[0;32m/usr/local/lib/python3.5/dist-packages/spacy/language.py\u001b[0m in \u001b[0;36m__call__\u001b[0;34m(self, text, disable)\u001b[0m\n\u001b[1;32m    344\u001b[0m             raise ValueError(Errors.E088.format(length=len(text),\n\u001b[1;32m    345\u001b[0m                                                 max_length=self.max_length))\n\u001b[0;32m--> 346\u001b[0;31m         \u001b[0mdoc\u001b[0m \u001b[0;34m=\u001b[0m \u001b[0mself\u001b[0m\u001b[0;34m.\u001b[0m\u001b[0mmake_doc\u001b[0m\u001b[0;34m(\u001b[0m\u001b[0mtext\u001b[0m\u001b[0;34m)\u001b[0m\u001b[0;34m\u001b[0m\u001b[0m\n\u001b[0m\u001b[1;32m    347\u001b[0m         \u001b[0;32mfor\u001b[0m \u001b[0mname\u001b[0m\u001b[0;34m,\u001b[0m \u001b[0mproc\u001b[0m \u001b[0;32min\u001b[0m \u001b[0mself\u001b[0m\u001b[0;34m.\u001b[0m\u001b[0mpipeline\u001b[0m\u001b[0;34m:\u001b[0m\u001b[0;34m\u001b[0m\u001b[0m\n\u001b[1;32m    348\u001b[0m             \u001b[0;32mif\u001b[0m \u001b[0mname\u001b[0m \u001b[0;32min\u001b[0m \u001b[0mdisable\u001b[0m\u001b[0;34m:\u001b[0m\u001b[0;34m\u001b[0m\u001b[0m\n",
      "\u001b[0;32m/usr/local/lib/python3.5/dist-packages/spacy/language.py\u001b[0m in \u001b[0;36mmake_doc\u001b[0;34m(self, text)\u001b[0m\n\u001b[1;32m    376\u001b[0m \u001b[0;34m\u001b[0m\u001b[0m\n\u001b[1;32m    377\u001b[0m     \u001b[0;32mdef\u001b[0m \u001b[0mmake_doc\u001b[0m\u001b[0;34m(\u001b[0m\u001b[0mself\u001b[0m\u001b[0;34m,\u001b[0m \u001b[0mtext\u001b[0m\u001b[0;34m)\u001b[0m\u001b[0;34m:\u001b[0m\u001b[0;34m\u001b[0m\u001b[0m\n\u001b[0;32m--> 378\u001b[0;31m         \u001b[0;32mreturn\u001b[0m \u001b[0mself\u001b[0m\u001b[0;34m.\u001b[0m\u001b[0mtokenizer\u001b[0m\u001b[0;34m(\u001b[0m\u001b[0mtext\u001b[0m\u001b[0;34m)\u001b[0m\u001b[0;34m\u001b[0m\u001b[0m\n\u001b[0m\u001b[1;32m    379\u001b[0m \u001b[0;34m\u001b[0m\u001b[0m\n\u001b[1;32m    380\u001b[0m     \u001b[0;32mdef\u001b[0m \u001b[0mupdate\u001b[0m\u001b[0;34m(\u001b[0m\u001b[0mself\u001b[0m\u001b[0;34m,\u001b[0m \u001b[0mdocs\u001b[0m\u001b[0;34m,\u001b[0m \u001b[0mgolds\u001b[0m\u001b[0;34m,\u001b[0m \u001b[0mdrop\u001b[0m\u001b[0;34m=\u001b[0m\u001b[0;36m0.\u001b[0m\u001b[0;34m,\u001b[0m \u001b[0msgd\u001b[0m\u001b[0;34m=\u001b[0m\u001b[0;32mNone\u001b[0m\u001b[0;34m,\u001b[0m \u001b[0mlosses\u001b[0m\u001b[0;34m=\u001b[0m\u001b[0;32mNone\u001b[0m\u001b[0;34m)\u001b[0m\u001b[0;34m:\u001b[0m\u001b[0;34m\u001b[0m\u001b[0m\n",
      "\u001b[0;31mKeyboardInterrupt\u001b[0m: "
     ]
    }
   ],
   "source": [
    "f = open('store_triplets.json','w')\n",
    "temp = []\n",
    "print(len(chosen))\n",
    "for sentence in chosen[:1000]:\n",
    "    triplet = {}\n",
    "    triplet['sentence'] = sentence\n",
    "    attrs = get_triplet(sentence)\n",
    "    triplet = {**triplet, **attrs}\n",
    "    VPs = get_VP(sentence)\n",
    "\n",
    "    if (triplet is not None) and (VPs is not None):\n",
    "        verbs = []\n",
    "        for vp in VPs:\n",
    "            verbs.append(vp.text)\n",
    "        triplet['verb phrase'] = verbs\n",
    "        tagged = pos_tag(word_tokenize(sentence))\n",
    "        verbs = []\n",
    "        temp.append(triplet)\n",
    "json.dump(temp,f)\n",
    "f.close()"
   ]
  },
  {
   "cell_type": "code",
   "execution_count": null,
   "metadata": {},
   "outputs": [],
   "source": [
    "f = open('store_triplets.json','r')\n",
    "data = json.load(f)\n",
    "df_ = pd.DataFrame(data)\n",
    "print(df_.head())"
   ]
  },
  {
   "cell_type": "code",
   "execution_count": null,
   "metadata": {},
   "outputs": [],
   "source": [
    "attr = df_.groupby(['attr','nsubj']).count()"
   ]
  }
 ],
 "metadata": {
  "kernelspec": {
   "display_name": "Python 3",
   "language": "python",
   "name": "python3"
  },
  "language_info": {
   "codemirror_mode": {
    "name": "ipython",
    "version": 3
   },
   "file_extension": ".py",
   "mimetype": "text/x-python",
   "name": "python",
   "nbconvert_exporter": "python",
   "pygments_lexer": "ipython3",
   "version": "3.5.2"
  }
 },
 "nbformat": 4,
 "nbformat_minor": 2
}
